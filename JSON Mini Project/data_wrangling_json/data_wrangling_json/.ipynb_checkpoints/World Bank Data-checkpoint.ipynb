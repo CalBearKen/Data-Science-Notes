{
 "cells": [
  {
   "cell_type": "code",
   "execution_count": 229,
   "metadata": {},
   "outputs": [],
   "source": [
    "import pandas as pd\n",
    "import json\n",
    "from pandas.io.json import json_normalize"
   ]
  },
  {
   "cell_type": "code",
   "execution_count": 240,
   "metadata": {},
   "outputs": [
    {
     "name": "stdout",
     "output_type": "stream",
     "text": [
      "Top 10 Countries with Most Projects: \n",
      "People's Republic of China       19\n",
      "Republic of Indonesia            19\n",
      "Socialist Republic of Vietnam    17\n",
      "Republic of India                16\n",
      "Republic of Yemen                13\n",
      "Nepal                            12\n",
      "Kingdom of Morocco               12\n",
      "People's Republic of Bangladesh  12\n",
      "Republic of Mozambique           11\n",
      "Africa                           11\n"
     ]
    }
   ],
   "source": [
    "with open('data/world_bank_projects.json') as file:\n",
    "    data = pd.read_json(file)\n",
    "    #print(data)\n",
    "    #group entries together by their respective countries\n",
    "    data = data.set_index(['countryname']) #, 'boardapprovaldate'\n",
    "    data = data.sort_index()\n",
    "    \n",
    "    #create list of unique countries from index: countries\n",
    "    countries = set(data.index)\n",
    "    #create dict of the countries to their numbers of projects\n",
    "    country_proj_counts = dict.fromkeys(countries)\n",
    "        \n",
    "    for country in countries:\n",
    "        country_proj_counts[country] = sum(data.index == country)\n",
    "        \n",
    "    #convert country_proj_counts from dict to dataframe    \n",
    "    country_proj_counts = pd.DataFrame.from_dict(country_proj_counts, orient='index')\n",
    "    \n",
    "    #sort dict by number of projects\n",
    "    country_proj_counts = country_proj_counts.sort_values(0, ascending=False)\n",
    "    top10 = country_proj_counts.head(10).to_string(header=False)\n",
    "    \n",
    "    #filter out top 10 countries and print them one by one, with ascending ranking on the side\n",
    "\n",
    "    print('Top 10 Countries with Most Projects: ')\n",
    "    print(top10)\n"
   ]
  },
  {
   "cell_type": "code",
   "execution_count": 179,
   "metadata": {},
   "outputs": [
    {
     "data": {
      "text/plain": [
       "'\\n    print(data.shape)\\n    print(data.columns)\\n    print(data.info())\\n'"
      ]
     },
     "execution_count": 179,
     "metadata": {},
     "output_type": "execute_result"
    }
   ],
   "source": [
    "'''\n",
    "    print(data.shape)\n",
    "    print(data.columns)\n",
    "    print(data.info())\n",
    "'''  "
   ]
  },
  {
   "cell_type": "code",
   "execution_count": 180,
   "metadata": {
    "scrolled": true
   },
   "outputs": [],
   "source": []
  },
  {
   "cell_type": "code",
   "execution_count": 185,
   "metadata": {},
   "outputs": [
    {
     "name": "stdout",
     "output_type": "stream",
     "text": [
      "(500, 49)\n",
      "Index(['_id', 'approvalfy', 'board_approval_month', 'boardapprovaldate',\n",
      "       'borrower', 'closingdate', 'country_namecode', 'countrycode',\n",
      "       'countryshortname', 'docty', 'envassesmentcategorycode', 'grantamt',\n",
      "       'ibrdcommamt', 'id', 'idacommamt', 'impagency', 'lendinginstr',\n",
      "       'lendinginstrtype', 'lendprojectcost', 'majorsector_percent',\n",
      "       'mjsector_namecode', 'mjtheme', 'mjtheme_namecode', 'mjthemecode',\n",
      "       'prodline', 'prodlinetext', 'productlinetype', 'project_abstract',\n",
      "       'project_name', 'projectdocs', 'projectfinancialtype',\n",
      "       'projectstatusdisplay', 'regionname', 'sector', 'sector1', 'sector2',\n",
      "       'sector3', 'sector4', 'sector_namecode', 'sectorcode', 'source',\n",
      "       'status', 'supplementprojectflg', 'theme1', 'theme_namecode',\n",
      "       'themecode', 'totalamt', 'totalcommamt', 'url'],\n",
      "      dtype='object')\n",
      "<class 'pandas.core.frame.DataFrame'>\n",
      "Index: 500 entries, Federal Democratic Republic of Ethiopia to Republic of Kenya\n",
      "Data columns (total 49 columns):\n",
      "_id                         500 non-null object\n",
      "approvalfy                  500 non-null int64\n",
      "board_approval_month        500 non-null object\n",
      "boardapprovaldate           500 non-null object\n",
      "borrower                    485 non-null object\n",
      "closingdate                 370 non-null object\n",
      "country_namecode            500 non-null object\n",
      "countrycode                 500 non-null object\n",
      "countryshortname            500 non-null object\n",
      "docty                       446 non-null object\n",
      "envassesmentcategorycode    430 non-null object\n",
      "grantamt                    500 non-null int64\n",
      "ibrdcommamt                 500 non-null int64\n",
      "id                          500 non-null object\n",
      "idacommamt                  500 non-null int64\n",
      "impagency                   472 non-null object\n",
      "lendinginstr                495 non-null object\n",
      "lendinginstrtype            495 non-null object\n",
      "lendprojectcost             500 non-null int64\n",
      "majorsector_percent         500 non-null object\n",
      "mjsector_namecode           500 non-null object\n",
      "mjtheme                     491 non-null object\n",
      "mjtheme_namecode            500 non-null object\n",
      "mjthemecode                 500 non-null object\n",
      "prodline                    500 non-null object\n",
      "prodlinetext                500 non-null object\n",
      "productlinetype             500 non-null object\n",
      "project_abstract            362 non-null object\n",
      "project_name                500 non-null object\n",
      "projectdocs                 446 non-null object\n",
      "projectfinancialtype        500 non-null object\n",
      "projectstatusdisplay        500 non-null object\n",
      "regionname                  500 non-null object\n",
      "sector                      500 non-null object\n",
      "sector1                     500 non-null object\n",
      "sector2                     380 non-null object\n",
      "sector3                     265 non-null object\n",
      "sector4                     174 non-null object\n",
      "sector_namecode             500 non-null object\n",
      "sectorcode                  500 non-null object\n",
      "source                      500 non-null object\n",
      "status                      500 non-null object\n",
      "supplementprojectflg        498 non-null object\n",
      "theme1                      500 non-null object\n",
      "theme_namecode              491 non-null object\n",
      "themecode                   491 non-null object\n",
      "totalamt                    500 non-null int64\n",
      "totalcommamt                500 non-null int64\n",
      "url                         500 non-null object\n",
      "dtypes: int64(7), object(42)\n",
      "memory usage: 195.3+ KB\n",
      "None\n",
      "118\n",
      "118\n"
     ]
    }
   ],
   "source": [
    "    print(data.shape)\n",
    "    print(data.columns)\n",
    "    print(data.info())\n",
    "    print(len(set(data.index)))\n",
    "    print(len(countries))"
   ]
  },
  {
   "cell_type": "code",
   "execution_count": null,
   "metadata": {},
   "outputs": [],
   "source": [
    "    for c in data['countryname'].items():\n",
    "        "
   ]
  },
  {
   "cell_type": "code",
   "execution_count": null,
   "metadata": {},
   "outputs": [],
   "source": []
  },
  {
   "cell_type": "code",
   "execution_count": null,
   "metadata": {},
   "outputs": [],
   "source": []
  }
 ],
 "metadata": {
  "kernelspec": {
   "display_name": "Python 3",
   "language": "python",
   "name": "python3"
  },
  "language_info": {
   "codemirror_mode": {
    "name": "ipython",
    "version": 3
   },
   "file_extension": ".py",
   "mimetype": "text/x-python",
   "name": "python",
   "nbconvert_exporter": "python",
   "pygments_lexer": "ipython3",
   "version": "3.7.1"
  }
 },
 "nbformat": 4,
 "nbformat_minor": 2
}
